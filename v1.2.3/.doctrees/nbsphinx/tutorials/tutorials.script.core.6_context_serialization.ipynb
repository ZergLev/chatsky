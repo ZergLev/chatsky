{
 "cells": [
  {
   "cell_type": "markdown",
   "id": "a2656134",
   "metadata": {
    "cell_marker": "\"\"\""
   },
   "source": [
    "# Core: 6. Context serialization"
   ]
  },
  {
   "cell_type": "code",
   "execution_count": 1,
   "id": "1322f125",
   "metadata": {
    "execution": {
     "iopub.execute_input": "2024-11-29T14:34:06.565816Z",
     "iopub.status.busy": "2024-11-29T14:34:06.565211Z",
     "iopub.status.idle": "2024-11-29T14:34:07.744112Z",
     "shell.execute_reply": "2024-11-29T14:34:07.743303Z"
    }
   },
   "outputs": [
    {
     "name": "stdout",
     "output_type": "stream",
     "text": [
      "Note: you may need to restart the kernel to use updated packages.\n"
     ]
    }
   ],
   "source": [
    "# installing dependencies\n",
    "%pip install -q chatsky==0.9.0"
   ]
  },
  {
   "cell_type": "code",
   "execution_count": 2,
   "id": "0c3e0370",
   "metadata": {
    "execution": {
     "iopub.execute_input": "2024-11-29T14:34:07.746665Z",
     "iopub.status.busy": "2024-11-29T14:34:07.746212Z",
     "iopub.status.idle": "2024-11-29T14:34:08.957210Z",
     "shell.execute_reply": "2024-11-29T14:34:08.956496Z"
    }
   },
   "outputs": [],
   "source": [
    "import logging\n",
    "\n",
    "from chatsky import (\n",
    "    TRANSITIONS,\n",
    "    RESPONSE,\n",
    "    Context,\n",
    "    Pipeline,\n",
    "    Transition as Tr,\n",
    "    BaseResponse,\n",
    "    MessageInitTypes,\n",
    ")\n",
    "\n",
    "from chatsky.utils.testing.common import (\n",
    "    check_happy_path,\n",
    "    is_interactive_mode,\n",
    ")"
   ]
  },
  {
   "cell_type": "code",
   "execution_count": 3,
   "id": "1a9fa006",
   "metadata": {
    "execution": {
     "iopub.execute_input": "2024-11-29T14:34:08.959904Z",
     "iopub.status.busy": "2024-11-29T14:34:08.959402Z",
     "iopub.status.idle": "2024-11-29T14:34:08.963532Z",
     "shell.execute_reply": "2024-11-29T14:34:08.962943Z"
    }
   },
   "outputs": [],
   "source": [
    "class RequestCounter(BaseResponse):\n",
    "    async def call(self, ctx: Context) -> MessageInitTypes:\n",
    "        return f\"answer {len(ctx.requests)}\""
   ]
  },
  {
   "cell_type": "code",
   "execution_count": 4,
   "id": "6a568fcd",
   "metadata": {
    "execution": {
     "iopub.execute_input": "2024-11-29T14:34:08.965804Z",
     "iopub.status.busy": "2024-11-29T14:34:08.965397Z",
     "iopub.status.idle": "2024-11-29T14:34:08.969360Z",
     "shell.execute_reply": "2024-11-29T14:34:08.968729Z"
    }
   },
   "outputs": [],
   "source": [
    "toy_script = {\n",
    "    \"flow_start\": {\n",
    "        \"node_start\": {\n",
    "            RESPONSE: RequestCounter(),\n",
    "            TRANSITIONS: [Tr(dst=(\"flow_start\", \"node_start\"))],\n",
    "        }\n",
    "    }\n",
    "}\n",
    "\n",
    "# testing\n",
    "happy_path = (\n",
    "    (\"hi\", \"answer 1\"),\n",
    "    (\"how are you?\", \"answer 2\"),\n",
    "    (\"ok\", \"answer 3\"),\n",
    "    (\"good\", \"answer 4\"),\n",
    ")"
   ]
  },
  {
   "cell_type": "markdown",
   "id": "45b58b61",
   "metadata": {
    "cell_marker": "\"\"\""
   },
   "source": [
    "Draft function that performs serialization."
   ]
  },
  {
   "cell_type": "code",
   "execution_count": 5,
   "id": "1e0d9f89",
   "metadata": {
    "execution": {
     "iopub.execute_input": "2024-11-29T14:34:08.971606Z",
     "iopub.status.busy": "2024-11-29T14:34:08.971203Z",
     "iopub.status.idle": "2024-11-29T14:34:08.975654Z",
     "shell.execute_reply": "2024-11-29T14:34:08.975014Z"
    }
   },
   "outputs": [],
   "source": [
    "def process_response(ctx: Context):\n",
    "    ctx_json = ctx.model_dump_json()\n",
    "    if isinstance(ctx_json, str):\n",
    "        logging.info(\"context serialized to json str\")\n",
    "    else:\n",
    "        raise Exception(f\"ctx={ctx_json} has to be serialized to json string\")\n",
    "\n",
    "    ctx_dict = ctx.model_dump()\n",
    "    if isinstance(ctx_dict, dict):\n",
    "        logging.info(\"context serialized to dict\")\n",
    "    else:\n",
    "        raise Exception(f\"ctx={ctx_dict} has to be serialized to dict\")\n",
    "\n",
    "    if not isinstance(ctx, Context):\n",
    "        raise Exception(f\"ctx={ctx} has to have Context type\")"
   ]
  },
  {
   "cell_type": "code",
   "execution_count": 6,
   "id": "ec4b9c6c",
   "metadata": {
    "execution": {
     "iopub.execute_input": "2024-11-29T14:34:08.977716Z",
     "iopub.status.busy": "2024-11-29T14:34:08.977478Z",
     "iopub.status.idle": "2024-11-29T14:34:08.989126Z",
     "shell.execute_reply": "2024-11-29T14:34:08.988536Z"
    }
   },
   "outputs": [
    {
     "name": "stdout",
     "output_type": "stream",
     "text": [
      "USER: text='hi'\n",
      "BOT : text='answer 1'\n",
      "USER: text='how are you?'\n",
      "BOT : text='answer 2'\n",
      "USER: text='ok'\n",
      "BOT : text='answer 3'\n",
      "USER: text='good'\n",
      "BOT : text='answer 4'\n"
     ]
    }
   ],
   "source": [
    "pipeline = Pipeline(\n",
    "    script=toy_script,\n",
    "    start_label=(\"flow_start\", \"node_start\"),\n",
    "    post_services=[process_response],\n",
    ")\n",
    "\n",
    "if __name__ == \"__main__\":\n",
    "    check_happy_path(pipeline, happy_path, printout=True)\n",
    "    if is_interactive_mode():\n",
    "        pipeline.run()"
   ]
  }
 ],
 "metadata": {
  "jupytext": {
   "cell_metadata_filter": "-all",
   "main_language": "python",
   "notebook_metadata_filter": "-all",
   "text_representation": {
    "extension": ".py",
    "format_name": "percent"
   }
  },
  "language_info": {
   "codemirror_mode": {
    "name": "ipython",
    "version": 3
   },
   "file_extension": ".py",
   "mimetype": "text/x-python",
   "name": "python",
   "nbconvert_exporter": "python",
   "pygments_lexer": "ipython3",
   "version": "3.9.20"
  }
 },
 "nbformat": 4,
 "nbformat_minor": 5
}
