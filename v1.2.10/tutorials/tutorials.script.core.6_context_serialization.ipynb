{
 "cells": [
  {
   "cell_type": "markdown",
   "id": "4f2fab1d",
   "metadata": {
    "cell_marker": "\"\"\""
   },
   "source": [
    "# Core: 6. Context serialization"
   ]
  },
  {
   "cell_type": "code",
   "execution_count": 1,
   "id": "8611418f",
   "metadata": {
    "execution": {
     "iopub.execute_input": "2024-11-29T14:43:16.993999Z",
     "iopub.status.busy": "2024-11-29T14:43:16.993422Z",
     "iopub.status.idle": "2024-11-29T14:43:18.213241Z",
     "shell.execute_reply": "2024-11-29T14:43:18.212357Z"
    }
   },
   "outputs": [
    {
     "name": "stdout",
     "output_type": "stream",
     "text": [
      "Note: you may need to restart the kernel to use updated packages.\n"
     ]
    }
   ],
   "source": [
    "# installing dependencies\n",
    "%pip install -q chatsky==0.9.0"
   ]
  },
  {
   "cell_type": "code",
   "execution_count": 2,
   "id": "edad4d97",
   "metadata": {
    "execution": {
     "iopub.execute_input": "2024-11-29T14:43:18.215534Z",
     "iopub.status.busy": "2024-11-29T14:43:18.215301Z",
     "iopub.status.idle": "2024-11-29T14:43:19.367865Z",
     "shell.execute_reply": "2024-11-29T14:43:19.367212Z"
    }
   },
   "outputs": [],
   "source": [
    "import logging\n",
    "\n",
    "from chatsky import (\n",
    "    TRANSITIONS,\n",
    "    RESPONSE,\n",
    "    Context,\n",
    "    Pipeline,\n",
    "    Transition as Tr,\n",
    "    BaseResponse,\n",
    "    MessageInitTypes,\n",
    ")\n",
    "\n",
    "from chatsky.utils.testing.common import (\n",
    "    check_happy_path,\n",
    "    is_interactive_mode,\n",
    ")"
   ]
  },
  {
   "cell_type": "code",
   "execution_count": 3,
   "id": "0f66ada5",
   "metadata": {
    "execution": {
     "iopub.execute_input": "2024-11-29T14:43:19.370664Z",
     "iopub.status.busy": "2024-11-29T14:43:19.370139Z",
     "iopub.status.idle": "2024-11-29T14:43:19.374363Z",
     "shell.execute_reply": "2024-11-29T14:43:19.373750Z"
    }
   },
   "outputs": [],
   "source": [
    "class RequestCounter(BaseResponse):\n",
    "    async def call(self, ctx: Context) -> MessageInitTypes:\n",
    "        return f\"answer {len(ctx.requests)}\""
   ]
  },
  {
   "cell_type": "code",
   "execution_count": 4,
   "id": "6d68af1a",
   "metadata": {
    "execution": {
     "iopub.execute_input": "2024-11-29T14:43:19.376247Z",
     "iopub.status.busy": "2024-11-29T14:43:19.376049Z",
     "iopub.status.idle": "2024-11-29T14:43:19.379853Z",
     "shell.execute_reply": "2024-11-29T14:43:19.379238Z"
    }
   },
   "outputs": [],
   "source": [
    "toy_script = {\n",
    "    \"flow_start\": {\n",
    "        \"node_start\": {\n",
    "            RESPONSE: RequestCounter(),\n",
    "            TRANSITIONS: [Tr(dst=(\"flow_start\", \"node_start\"))],\n",
    "        }\n",
    "    }\n",
    "}\n",
    "\n",
    "# testing\n",
    "happy_path = (\n",
    "    (\"hi\", \"answer 1\"),\n",
    "    (\"how are you?\", \"answer 2\"),\n",
    "    (\"ok\", \"answer 3\"),\n",
    "    (\"good\", \"answer 4\"),\n",
    ")"
   ]
  },
  {
   "cell_type": "markdown",
   "id": "f0b831b5",
   "metadata": {
    "cell_marker": "\"\"\""
   },
   "source": [
    "Draft function that performs serialization."
   ]
  },
  {
   "cell_type": "code",
   "execution_count": 5,
   "id": "ee066560",
   "metadata": {
    "execution": {
     "iopub.execute_input": "2024-11-29T14:43:19.382285Z",
     "iopub.status.busy": "2024-11-29T14:43:19.381781Z",
     "iopub.status.idle": "2024-11-29T14:43:19.386131Z",
     "shell.execute_reply": "2024-11-29T14:43:19.385509Z"
    }
   },
   "outputs": [],
   "source": [
    "def process_response(ctx: Context):\n",
    "    ctx_json = ctx.model_dump_json()\n",
    "    if isinstance(ctx_json, str):\n",
    "        logging.info(\"context serialized to json str\")\n",
    "    else:\n",
    "        raise Exception(f\"ctx={ctx_json} has to be serialized to json string\")\n",
    "\n",
    "    ctx_dict = ctx.model_dump()\n",
    "    if isinstance(ctx_dict, dict):\n",
    "        logging.info(\"context serialized to dict\")\n",
    "    else:\n",
    "        raise Exception(f\"ctx={ctx_dict} has to be serialized to dict\")\n",
    "\n",
    "    if not isinstance(ctx, Context):\n",
    "        raise Exception(f\"ctx={ctx} has to have Context type\")"
   ]
  },
  {
   "cell_type": "code",
   "execution_count": 6,
   "id": "7af98ded",
   "metadata": {
    "execution": {
     "iopub.execute_input": "2024-11-29T14:43:19.388048Z",
     "iopub.status.busy": "2024-11-29T14:43:19.387792Z",
     "iopub.status.idle": "2024-11-29T14:43:19.400081Z",
     "shell.execute_reply": "2024-11-29T14:43:19.399467Z"
    }
   },
   "outputs": [
    {
     "name": "stdout",
     "output_type": "stream",
     "text": [
      "USER: text='hi'\n",
      "BOT : text='answer 1'\n",
      "USER: text='how are you?'\n",
      "BOT : text='answer 2'\n",
      "USER: text='ok'\n",
      "BOT : text='answer 3'\n",
      "USER: text='good'\n",
      "BOT : text='answer 4'\n"
     ]
    }
   ],
   "source": [
    "pipeline = Pipeline(\n",
    "    script=toy_script,\n",
    "    start_label=(\"flow_start\", \"node_start\"),\n",
    "    post_services=[process_response],\n",
    ")\n",
    "\n",
    "if __name__ == \"__main__\":\n",
    "    check_happy_path(pipeline, happy_path, printout=True)\n",
    "    if is_interactive_mode():\n",
    "        pipeline.run()"
   ]
  }
 ],
 "metadata": {
  "jupytext": {
   "cell_metadata_filter": "-all",
   "main_language": "python",
   "notebook_metadata_filter": "-all",
   "text_representation": {
    "extension": ".py",
    "format_name": "percent"
   }
  },
  "language_info": {
   "codemirror_mode": {
    "name": "ipython",
    "version": 3
   },
   "file_extension": ".py",
   "mimetype": "text/x-python",
   "name": "python",
   "nbconvert_exporter": "python",
   "pygments_lexer": "ipython3",
   "version": "3.9.20"
  }
 },
 "nbformat": 4,
 "nbformat_minor": 5
}
