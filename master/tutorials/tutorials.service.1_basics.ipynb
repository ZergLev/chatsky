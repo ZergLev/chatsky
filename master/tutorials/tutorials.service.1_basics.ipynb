{
 "cells": [
  {
   "cell_type": "markdown",
   "id": "be20a3f6",
   "metadata": {
    "cell_marker": "\"\"\""
   },
   "source": [
    "# 1. Basic services\n",
    "\n",
    "This tutorial shows basics of using services.\n",
    "\n",
    "Here, [misc](../apiref/chatsky.core.context.rst#chatsky.core.context.Context.misc)\n",
    "dictionary of context is used for storing additional data."
   ]
  },
  {
   "cell_type": "code",
   "execution_count": 1,
   "id": "686d775f",
   "metadata": {
    "execution": {
     "iopub.execute_input": "2024-11-29T17:27:12.530805Z",
     "iopub.status.busy": "2024-11-29T17:27:12.530340Z",
     "iopub.status.idle": "2024-11-29T17:27:13.703326Z",
     "shell.execute_reply": "2024-11-29T17:27:13.702390Z"
    }
   },
   "outputs": [
    {
     "name": "stdout",
     "output_type": "stream",
     "text": [
      "Note: you may need to restart the kernel to use updated packages.\n"
     ]
    }
   ],
   "source": [
    "# installing dependencies\n",
    "%pip install -q chatsky==0.9.0"
   ]
  },
  {
   "cell_type": "code",
   "execution_count": 2,
   "id": "a3aacfff",
   "metadata": {
    "execution": {
     "iopub.execute_input": "2024-11-29T17:27:13.706076Z",
     "iopub.status.busy": "2024-11-29T17:27:13.705786Z",
     "iopub.status.idle": "2024-11-29T17:27:14.985354Z",
     "shell.execute_reply": "2024-11-29T17:27:14.984345Z"
    },
    "lines_to_next_cell": 2
   },
   "outputs": [],
   "source": [
    "import logging\n",
    "import sys\n",
    "from importlib import reload\n",
    "\n",
    "from chatsky import Context, Pipeline\n",
    "\n",
    "from chatsky.utils.testing import (\n",
    "    check_happy_path,\n",
    "    is_interactive_mode,\n",
    "    HAPPY_PATH,\n",
    "    TOY_SCRIPT_KWARGS,\n",
    ")\n",
    "\n",
    "reload(logging)\n",
    "logging.basicConfig(stream=sys.stdout, level=logging.INFO, format=\"\")\n",
    "# fix jupyter logs display\n",
    "\n",
    "logger = logging.getLogger(__name__)"
   ]
  },
  {
   "cell_type": "markdown",
   "id": "987b4b38",
   "metadata": {
    "cell_marker": "\"\"\""
   },
   "source": [
    "When Pipeline is created, additional pre-\n",
    "and post-services can be defined. These run before and after\n",
    "`Actor` respectively.\n",
    "\n",
    "<div class=\"alert alert-info\">\n",
    "\n",
    "Reminder\n",
    "\n",
    "`Actor` is a Pipeline component that processes user request, determines\n",
    "the next node and generates a response from that node.\n",
    "\n",
    "</div>\n",
    "\n",
    "Services can be used to access external APIs, annotate user input, etc.\n",
    "\n",
    "Service callables only take one parameter: `ctx` (Context) and have no return.\n",
    "\n",
    "Here a pre-service (\"ping\") and\n",
    "a post-service (\"pong\") are added to the pipeline."
   ]
  },
  {
   "cell_type": "code",
   "execution_count": 3,
   "id": "50df4da2",
   "metadata": {
    "execution": {
     "iopub.execute_input": "2024-11-29T17:27:14.989201Z",
     "iopub.status.busy": "2024-11-29T17:27:14.988615Z",
     "iopub.status.idle": "2024-11-29T17:27:14.999417Z",
     "shell.execute_reply": "2024-11-29T17:27:14.997935Z"
    },
    "lines_to_next_cell": 2
   },
   "outputs": [],
   "source": [
    "def ping_processor(ctx: Context):\n",
    "    logger.info(\"ping - ...\")\n",
    "    ctx.misc[\"ping\"] = True\n",
    "\n",
    "\n",
    "# services can be both sync and async\n",
    "async def pong_processor(ctx: Context):\n",
    "    ping_pong = ctx.misc.get(\"ping\", False)\n",
    "    logger.info(\"... - pong\")\n",
    "    logger.info(\n",
    "        f\"Ping-pong exchange: \" f\"{'completed' if ping_pong else 'failed'}.\"\n",
    "    )\n",
    "\n",
    "\n",
    "pipeline = Pipeline(\n",
    "    **TOY_SCRIPT_KWARGS,  # contains script, start and fallback labels\n",
    "    pre_services=[ping_processor],\n",
    "    post_services=[pong_processor],\n",
    "    # To add a service simply add it to the corresponding service list\n",
    ")"
   ]
  },
  {
   "cell_type": "code",
   "execution_count": 4,
   "id": "f2a120e5",
   "metadata": {
    "execution": {
     "iopub.execute_input": "2024-11-29T17:27:15.003262Z",
     "iopub.status.busy": "2024-11-29T17:27:15.002848Z",
     "iopub.status.idle": "2024-11-29T17:27:15.013626Z",
     "shell.execute_reply": "2024-11-29T17:27:15.012600Z"
    }
   },
   "outputs": [
    {
     "name": "stdout",
     "output_type": "stream",
     "text": [
      "USER: text='Hi'\n",
      "ping - ...\n"
     ]
    },
    {
     "name": "stdout",
     "output_type": "stream",
     "text": [
      "... - pong\n"
     ]
    },
    {
     "name": "stdout",
     "output_type": "stream",
     "text": [
      "Ping-pong exchange: completed.\n"
     ]
    },
    {
     "name": "stdout",
     "output_type": "stream",
     "text": [
      "BOT : text='Hi, how are you?'\n"
     ]
    }
   ],
   "source": [
    "if __name__ == \"__main__\":\n",
    "    check_happy_path(pipeline, HAPPY_PATH[:1], printout=True)\n",
    "    if is_interactive_mode():\n",
    "        pipeline.run()"
   ]
  }
 ],
 "metadata": {
  "jupytext": {
   "cell_metadata_filter": "-all",
   "main_language": "python",
   "notebook_metadata_filter": "-all",
   "text_representation": {
    "extension": ".py",
    "format_name": "percent"
   }
  },
  "language_info": {
   "codemirror_mode": {
    "name": "ipython",
    "version": 3
   },
   "file_extension": ".py",
   "mimetype": "text/x-python",
   "name": "python",
   "nbconvert_exporter": "python",
   "pygments_lexer": "ipython3",
   "version": "3.9.20"
  }
 },
 "nbformat": 4,
 "nbformat_minor": 5
}
