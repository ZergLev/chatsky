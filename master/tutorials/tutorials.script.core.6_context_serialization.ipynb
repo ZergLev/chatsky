{
 "cells": [
  {
   "cell_type": "markdown",
   "id": "2ec00ad0",
   "metadata": {
    "cell_marker": "\"\"\""
   },
   "source": [
    "# Core: 6. Context serialization"
   ]
  },
  {
   "cell_type": "code",
   "execution_count": 1,
   "id": "82cc13bc",
   "metadata": {
    "execution": {
     "iopub.execute_input": "2024-11-29T14:33:40.746204Z",
     "iopub.status.busy": "2024-11-29T14:33:40.745644Z",
     "iopub.status.idle": "2024-11-29T14:33:41.894861Z",
     "shell.execute_reply": "2024-11-29T14:33:41.894054Z"
    }
   },
   "outputs": [
    {
     "name": "stdout",
     "output_type": "stream",
     "text": [
      "Note: you may need to restart the kernel to use updated packages.\n"
     ]
    }
   ],
   "source": [
    "# installing dependencies\n",
    "%pip install -q chatsky==0.9.0"
   ]
  },
  {
   "cell_type": "code",
   "execution_count": 2,
   "id": "c9e2721c",
   "metadata": {
    "execution": {
     "iopub.execute_input": "2024-11-29T14:33:41.897619Z",
     "iopub.status.busy": "2024-11-29T14:33:41.897093Z",
     "iopub.status.idle": "2024-11-29T14:33:43.017123Z",
     "shell.execute_reply": "2024-11-29T14:33:43.016348Z"
    }
   },
   "outputs": [],
   "source": [
    "import logging\n",
    "\n",
    "from chatsky import (\n",
    "    TRANSITIONS,\n",
    "    RESPONSE,\n",
    "    Context,\n",
    "    Pipeline,\n",
    "    Transition as Tr,\n",
    "    BaseResponse,\n",
    "    MessageInitTypes,\n",
    ")\n",
    "\n",
    "from chatsky.utils.testing.common import (\n",
    "    check_happy_path,\n",
    "    is_interactive_mode,\n",
    ")"
   ]
  },
  {
   "cell_type": "code",
   "execution_count": 3,
   "id": "f061a9dd",
   "metadata": {
    "execution": {
     "iopub.execute_input": "2024-11-29T14:33:43.020522Z",
     "iopub.status.busy": "2024-11-29T14:33:43.019827Z",
     "iopub.status.idle": "2024-11-29T14:33:43.023999Z",
     "shell.execute_reply": "2024-11-29T14:33:43.023365Z"
    }
   },
   "outputs": [],
   "source": [
    "class RequestCounter(BaseResponse):\n",
    "    async def call(self, ctx: Context) -> MessageInitTypes:\n",
    "        return f\"answer {len(ctx.requests)}\""
   ]
  },
  {
   "cell_type": "code",
   "execution_count": 4,
   "id": "5999a1c9",
   "metadata": {
    "execution": {
     "iopub.execute_input": "2024-11-29T14:33:43.026089Z",
     "iopub.status.busy": "2024-11-29T14:33:43.025725Z",
     "iopub.status.idle": "2024-11-29T14:33:43.029625Z",
     "shell.execute_reply": "2024-11-29T14:33:43.029031Z"
    }
   },
   "outputs": [],
   "source": [
    "toy_script = {\n",
    "    \"flow_start\": {\n",
    "        \"node_start\": {\n",
    "            RESPONSE: RequestCounter(),\n",
    "            TRANSITIONS: [Tr(dst=(\"flow_start\", \"node_start\"))],\n",
    "        }\n",
    "    }\n",
    "}\n",
    "\n",
    "# testing\n",
    "happy_path = (\n",
    "    (\"hi\", \"answer 1\"),\n",
    "    (\"how are you?\", \"answer 2\"),\n",
    "    (\"ok\", \"answer 3\"),\n",
    "    (\"good\", \"answer 4\"),\n",
    ")"
   ]
  },
  {
   "cell_type": "markdown",
   "id": "49455c73",
   "metadata": {
    "cell_marker": "\"\"\""
   },
   "source": [
    "Draft function that performs serialization."
   ]
  },
  {
   "cell_type": "code",
   "execution_count": 5,
   "id": "cbf13626",
   "metadata": {
    "execution": {
     "iopub.execute_input": "2024-11-29T14:33:43.031584Z",
     "iopub.status.busy": "2024-11-29T14:33:43.031244Z",
     "iopub.status.idle": "2024-11-29T14:33:43.035478Z",
     "shell.execute_reply": "2024-11-29T14:33:43.034904Z"
    }
   },
   "outputs": [],
   "source": [
    "def process_response(ctx: Context):\n",
    "    ctx_json = ctx.model_dump_json()\n",
    "    if isinstance(ctx_json, str):\n",
    "        logging.info(\"context serialized to json str\")\n",
    "    else:\n",
    "        raise Exception(f\"ctx={ctx_json} has to be serialized to json string\")\n",
    "\n",
    "    ctx_dict = ctx.model_dump()\n",
    "    if isinstance(ctx_dict, dict):\n",
    "        logging.info(\"context serialized to dict\")\n",
    "    else:\n",
    "        raise Exception(f\"ctx={ctx_dict} has to be serialized to dict\")\n",
    "\n",
    "    if not isinstance(ctx, Context):\n",
    "        raise Exception(f\"ctx={ctx} has to have Context type\")"
   ]
  },
  {
   "cell_type": "code",
   "execution_count": 6,
   "id": "341fc373",
   "metadata": {
    "execution": {
     "iopub.execute_input": "2024-11-29T14:33:43.037756Z",
     "iopub.status.busy": "2024-11-29T14:33:43.037198Z",
     "iopub.status.idle": "2024-11-29T14:33:43.048587Z",
     "shell.execute_reply": "2024-11-29T14:33:43.048027Z"
    }
   },
   "outputs": [
    {
     "name": "stdout",
     "output_type": "stream",
     "text": [
      "USER: text='hi'\n",
      "BOT : text='answer 1'\n",
      "USER: text='how are you?'\n",
      "BOT : text='answer 2'\n",
      "USER: text='ok'\n",
      "BOT : text='answer 3'\n",
      "USER: text='good'\n",
      "BOT : text='answer 4'\n"
     ]
    }
   ],
   "source": [
    "pipeline = Pipeline(\n",
    "    script=toy_script,\n",
    "    start_label=(\"flow_start\", \"node_start\"),\n",
    "    post_services=[process_response],\n",
    ")\n",
    "\n",
    "if __name__ == \"__main__\":\n",
    "    check_happy_path(pipeline, happy_path, printout=True)\n",
    "    if is_interactive_mode():\n",
    "        pipeline.run()"
   ]
  }
 ],
 "metadata": {
  "jupytext": {
   "cell_metadata_filter": "-all",
   "main_language": "python",
   "notebook_metadata_filter": "-all",
   "text_representation": {
    "extension": ".py",
    "format_name": "percent"
   }
  },
  "language_info": {
   "codemirror_mode": {
    "name": "ipython",
    "version": 3
   },
   "file_extension": ".py",
   "mimetype": "text/x-python",
   "name": "python",
   "nbconvert_exporter": "python",
   "pygments_lexer": "ipython3",
   "version": "3.9.20"
  }
 },
 "nbformat": 4,
 "nbformat_minor": 5
}
