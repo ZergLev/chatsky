{
 "cells": [
  {
   "cell_type": "markdown",
   "id": "46c64065",
   "metadata": {
    "cell_marker": "\"\"\""
   },
   "source": [
    "# Core: 2. Conditions\n",
    "\n",
    "This tutorial shows different options for\n",
    "setting transition conditions from one node to another.\n",
    "\n",
    "Here, [conditions](../apiref/chatsky.conditions.standard.rst)\n",
    "for script transitions are shown."
   ]
  },
  {
   "cell_type": "code",
   "execution_count": 1,
   "id": "cfe92092",
   "metadata": {
    "execution": {
     "iopub.execute_input": "2024-10-10T12:18:11.215846Z",
     "iopub.status.busy": "2024-10-10T12:18:11.215215Z",
     "iopub.status.idle": "2024-10-10T12:18:12.512885Z",
     "shell.execute_reply": "2024-10-10T12:18:12.512093Z"
    }
   },
   "outputs": [
    {
     "name": "stdout",
     "output_type": "stream",
     "text": [
      "Note: you may need to restart the kernel to use updated packages.\n"
     ]
    }
   ],
   "source": [
    "# installing dependencies\n",
    "%pip install -q chatsky"
   ]
  },
  {
   "cell_type": "code",
   "execution_count": 2,
   "id": "bfb68422",
   "metadata": {
    "execution": {
     "iopub.execute_input": "2024-10-10T12:18:12.515500Z",
     "iopub.status.busy": "2024-10-10T12:18:12.515060Z",
     "iopub.status.idle": "2024-10-10T12:18:13.683873Z",
     "shell.execute_reply": "2024-10-10T12:18:13.683238Z"
    }
   },
   "outputs": [],
   "source": [
    "import re\n",
    "\n",
    "from chatsky import (\n",
    "    Context,\n",
    "    TRANSITIONS,\n",
    "    RESPONSE,\n",
    "    Message,\n",
    "    Pipeline,\n",
    "    BaseCondition,\n",
    "    Transition as Tr,\n",
    "    conditions as cnd,\n",
    ")\n",
    "\n",
    "from chatsky.utils.testing.common import (\n",
    "    check_happy_path,\n",
    "    is_interactive_mode,\n",
    ")"
   ]
  },
  {
   "cell_type": "markdown",
   "id": "612c480f",
   "metadata": {
    "cell_marker": "\"\"\""
   },
   "source": [
    "The transition condition is determined by\n",
    "[BaseCondition](../apiref/chatsky.core.script_function.rst#chatsky.core.script_function.BaseCondition).\n",
    "\n",
    "If this function returns `True`,\n",
    "then the corresponding transition is considered possible.\n",
    "\n",
    "Condition functions have signature\n",
    "\n",
    "    class MyCondition(BaseCondition):\n",
    "        async def call(self, ctx: Context) -> bool:\n",
    "\n",
    "This script covers the following pre-defined conditions:\n",
    "\n",
    "- `ExactMatch` returns `True` if the user's request completely\n",
    "    matches the value passed to the function.\n",
    "- `Regexp` returns `True` if the pattern matches the user's request.\n",
    "    `Regexp` has same signature as `re.compile` function.\n",
    "- `Any` returns `True` if one element of input sequence of conditions is `True`.\n",
    "- `All` returns `True` if All elements of input\n",
    "    sequence of conditions are `True`.\n",
    "\n",
    "For a full list of available conditions see\n",
    "[here](../apiref/chatsky.conditions.standard.rst).\n",
    "\n",
    "The `cnd` field of `Transition` may also be a constant bool value."
   ]
  },
  {
   "cell_type": "code",
   "execution_count": 3,
   "id": "08528b99",
   "metadata": {
    "execution": {
     "iopub.execute_input": "2024-10-10T12:18:13.686460Z",
     "iopub.status.busy": "2024-10-10T12:18:13.686146Z",
     "iopub.status.idle": "2024-10-10T12:18:13.690446Z",
     "shell.execute_reply": "2024-10-10T12:18:13.689857Z"
    }
   },
   "outputs": [],
   "source": [
    "class HiLowerCase(BaseCondition):\n",
    "    \"\"\"\n",
    "    Return True if `hi` in both uppercase and lowercase\n",
    "    letters is contained in the user request.\n",
    "    \"\"\"\n",
    "\n",
    "    async def call(self, ctx: Context) -> bool:\n",
    "        request = ctx.last_request\n",
    "        return \"hi\" in request.text.lower()"
   ]
  },
  {
   "cell_type": "markdown",
   "id": "46d0c6a4",
   "metadata": {
    "cell_marker": "\"\"\""
   },
   "source": [
    "Conditions are subclasses of `pydantic.BaseModel`.\n",
    "\n",
    "You can define custom fields to make them more customizable:"
   ]
  },
  {
   "cell_type": "code",
   "execution_count": 4,
   "id": "98746501",
   "metadata": {
    "execution": {
     "iopub.execute_input": "2024-10-10T12:18:13.692586Z",
     "iopub.status.busy": "2024-10-10T12:18:13.692204Z",
     "iopub.status.idle": "2024-10-10T12:18:13.696657Z",
     "shell.execute_reply": "2024-10-10T12:18:13.696113Z"
    },
    "lines_to_next_cell": 2
   },
   "outputs": [],
   "source": [
    "class ComplexUserAnswer(BaseCondition):\n",
    "    \"\"\"\n",
    "    Checks if the misc field of the last message is of a certain value.\n",
    "\n",
    "    Messages are more complex than just strings.\n",
    "    The misc field can be used to store metadata about the message.\n",
    "    More on that in the next tutorial.\n",
    "    \"\"\"\n",
    "\n",
    "    value: dict\n",
    "\n",
    "    async def call(self, ctx: Context) -> bool:\n",
    "        request = ctx.last_request\n",
    "        return request.misc == self.value\n",
    "\n",
    "\n",
    "customized_condition = ComplexUserAnswer(value={\"some_key\": \"some_value\"})"
   ]
  },
  {
   "cell_type": "code",
   "execution_count": 5,
   "id": "0ec39e82",
   "metadata": {
    "execution": {
     "iopub.execute_input": "2024-10-10T12:18:13.698690Z",
     "iopub.status.busy": "2024-10-10T12:18:13.698331Z",
     "iopub.status.idle": "2024-10-10T12:18:13.706714Z",
     "shell.execute_reply": "2024-10-10T12:18:13.706168Z"
    }
   },
   "outputs": [],
   "source": [
    "toy_script = {\n",
    "    \"greeting_flow\": {\n",
    "        \"start_node\": {\n",
    "            TRANSITIONS: [Tr(dst=\"node1\", cnd=cnd.ExactMatch(\"Hi\"))],\n",
    "            # If \"Hi\" == request of user then we make the transition\n",
    "        },\n",
    "        \"node1\": {\n",
    "            RESPONSE: \"Hi, how are you?\",\n",
    "            TRANSITIONS: [\n",
    "                Tr(\n",
    "                    dst=\"node2\",\n",
    "                    cnd=cnd.Regexp(r\".*how are you\", flags=re.IGNORECASE),\n",
    "                )\n",
    "            ],\n",
    "            # pattern matching\n",
    "        },\n",
    "        \"node2\": {\n",
    "            RESPONSE: \"Good. What do you want to talk about?\",\n",
    "            TRANSITIONS: [\n",
    "                Tr(\n",
    "                    dst=\"node3\",\n",
    "                    cnd=cnd.All(\n",
    "                        cnd.Regexp(r\"talk\"), cnd.Regexp(r\"about.*music\")\n",
    "                    ),\n",
    "                )\n",
    "            ],\n",
    "            # Combine sequences of conditions with `cnd.All`\n",
    "        },\n",
    "        \"node3\": {\n",
    "            RESPONSE: \"Sorry, I can not talk about music now.\",\n",
    "            TRANSITIONS: [\n",
    "                Tr(dst=\"node4\", cnd=cnd.Regexp(re.compile(r\"Ok, goodbye.\")))\n",
    "            ],\n",
    "        },\n",
    "        \"node4\": {\n",
    "            RESPONSE: \"bye\",\n",
    "            TRANSITIONS: [\n",
    "                Tr(\n",
    "                    dst=\"node1\",\n",
    "                    cnd=cnd.Any(\n",
    "                        HiLowerCase(),\n",
    "                        cnd.ExactMatch(\"hello\"),\n",
    "                    ),\n",
    "                )\n",
    "            ],\n",
    "            # Combine sequences of conditions with `cnd.Any`\n",
    "        },\n",
    "        \"fallback_node\": {  # We get to this node\n",
    "            # if no suitable transition was found\n",
    "            RESPONSE: \"Ooops\",\n",
    "            TRANSITIONS: [\n",
    "                Tr(dst=\"node1\", cnd=customized_condition),\n",
    "                # use a previously instantiated condition here\n",
    "                Tr(dst=\"start_node\", cnd=False),\n",
    "                # This transition will never be made\n",
    "                Tr(dst=\"fallback_node\"),\n",
    "                # `True` is the default value of `cnd`\n",
    "                # this transition will always be valid\n",
    "            ],\n",
    "        },\n",
    "    }\n",
    "}\n",
    "\n",
    "# testing\n",
    "happy_path = (\n",
    "    (\n",
    "        \"Hi\",\n",
    "        \"Hi, how are you?\",\n",
    "    ),  # start_node -> node1\n",
    "    (\n",
    "        \"i'm fine, how are you?\",\n",
    "        \"Good. What do you want to talk about?\",\n",
    "    ),  # node1 -> node2\n",
    "    (\n",
    "        \"Let's talk about music.\",\n",
    "        \"Sorry, I can not talk about music now.\",\n",
    "    ),  # node2 -> node3\n",
    "    (\"Ok, goodbye.\", \"bye\"),  # node3 -> node4\n",
    "    (\"Hi\", \"Hi, how are you?\"),  # node4 -> node1\n",
    "    (\"stop\", \"Ooops\"),  # node1 -> fallback_node\n",
    "    (\n",
    "        \"one\",\n",
    "        \"Ooops\",\n",
    "    ),  # fallback_node -> fallback_node\n",
    "    (\n",
    "        \"help\",\n",
    "        \"Ooops\",\n",
    "    ),  # fallback_node -> fallback_node\n",
    "    (\n",
    "        \"nope\",\n",
    "        \"Ooops\",\n",
    "    ),  # fallback_node -> fallback_node\n",
    "    (\n",
    "        Message(misc={\"some_key\": \"some_value\"}),\n",
    "        \"Hi, how are you?\",\n",
    "    ),  # fallback_node -> node1\n",
    "    (\n",
    "        \"i'm fine, how are you?\",\n",
    "        \"Good. What do you want to talk about?\",\n",
    "    ),  # node1 -> node2\n",
    "    (\n",
    "        \"Let's talk about music.\",\n",
    "        \"Sorry, I can not talk about music now.\",\n",
    "    ),  # node2 -> node3\n",
    "    (\"Ok, goodbye.\", \"bye\"),  # node3 -> node4\n",
    ")"
   ]
  },
  {
   "cell_type": "code",
   "execution_count": 6,
   "id": "cb9fce1a",
   "metadata": {
    "execution": {
     "iopub.execute_input": "2024-10-10T12:18:13.708772Z",
     "iopub.status.busy": "2024-10-10T12:18:13.708462Z",
     "iopub.status.idle": "2024-10-10T12:18:13.732053Z",
     "shell.execute_reply": "2024-10-10T12:18:13.731447Z"
    }
   },
   "outputs": [
    {
     "name": "stdout",
     "output_type": "stream",
     "text": [
      "USER: text='Hi'\n",
      "BOT : text='Hi, how are you?'\n",
      "USER: text='i'm fine, how are you?'\n",
      "BOT : text='Good. What do you want to talk about?'\n",
      "USER: text='Let's talk about music.'\n",
      "BOT : text='Sorry, I can not talk about music now.'\n",
      "USER: text='Ok, goodbye.'\n",
      "BOT : text='bye'\n",
      "USER: text='Hi'\n",
      "BOT : text='Hi, how are you?'\n",
      "USER: text='stop'\n",
      "BOT : text='Ooops'\n",
      "USER: text='one'\n",
      "BOT : text='Ooops'\n",
      "USER: text='help'\n",
      "BOT : text='Ooops'\n",
      "USER: text='nope'\n",
      "BOT : text='Ooops'\n",
      "USER: misc='{'some_key': 'some_value'}'\n",
      "BOT : text='Hi, how are you?'\n",
      "USER: text='i'm fine, how are you?'\n",
      "BOT : text='Good. What do you want to talk about?'\n",
      "USER: text='Let's talk about music.'\n",
      "BOT : text='Sorry, I can not talk about music now.'\n",
      "USER: text='Ok, goodbye.'\n",
      "BOT : text='bye'\n"
     ]
    }
   ],
   "source": [
    "pipeline = Pipeline(\n",
    "    script=toy_script,\n",
    "    start_label=(\"greeting_flow\", \"start_node\"),\n",
    "    fallback_label=(\"greeting_flow\", \"fallback_node\"),\n",
    ")\n",
    "\n",
    "if __name__ == \"__main__\":\n",
    "    check_happy_path(pipeline, happy_path, printout=True)\n",
    "    if is_interactive_mode():\n",
    "        pipeline.run()"
   ]
  }
 ],
 "metadata": {
  "jupytext": {
   "cell_metadata_filter": "-all",
   "main_language": "python",
   "notebook_metadata_filter": "-all",
   "text_representation": {
    "extension": ".py",
    "format_name": "percent"
   }
  },
  "language_info": {
   "codemirror_mode": {
    "name": "ipython",
    "version": 3
   },
   "file_extension": ".py",
   "mimetype": "text/x-python",
   "name": "python",
   "nbconvert_exporter": "python",
   "pygments_lexer": "ipython3",
   "version": "3.9.20"
  }
 },
 "nbformat": 4,
 "nbformat_minor": 5
}
