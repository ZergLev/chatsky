{
 "cells": [
  {
   "cell_type": "markdown",
   "id": "48aa246a",
   "metadata": {
    "cell_marker": "\"\"\""
   },
   "source": [
    "# Core: 6. Context serialization"
   ]
  },
  {
   "cell_type": "code",
   "execution_count": 1,
   "id": "757ea925",
   "metadata": {
    "execution": {
     "iopub.execute_input": "2024-10-10T12:18:28.382440Z",
     "iopub.status.busy": "2024-10-10T12:18:28.382220Z",
     "iopub.status.idle": "2024-10-10T12:18:29.545998Z",
     "shell.execute_reply": "2024-10-10T12:18:29.545134Z"
    }
   },
   "outputs": [
    {
     "name": "stdout",
     "output_type": "stream",
     "text": [
      "Note: you may need to restart the kernel to use updated packages.\n"
     ]
    }
   ],
   "source": [
    "# installing dependencies\n",
    "%pip install -q chatsky"
   ]
  },
  {
   "cell_type": "code",
   "execution_count": 2,
   "id": "46e41c61",
   "metadata": {
    "execution": {
     "iopub.execute_input": "2024-10-10T12:18:29.548425Z",
     "iopub.status.busy": "2024-10-10T12:18:29.548205Z",
     "iopub.status.idle": "2024-10-10T12:18:30.721759Z",
     "shell.execute_reply": "2024-10-10T12:18:30.721153Z"
    }
   },
   "outputs": [],
   "source": [
    "import logging\n",
    "\n",
    "from chatsky import (\n",
    "    TRANSITIONS,\n",
    "    RESPONSE,\n",
    "    Context,\n",
    "    Pipeline,\n",
    "    Transition as Tr,\n",
    "    BaseResponse,\n",
    "    MessageInitTypes,\n",
    ")\n",
    "\n",
    "from chatsky.utils.testing.common import (\n",
    "    check_happy_path,\n",
    "    is_interactive_mode,\n",
    ")"
   ]
  },
  {
   "cell_type": "code",
   "execution_count": 3,
   "id": "f0e3dcc5",
   "metadata": {
    "execution": {
     "iopub.execute_input": "2024-10-10T12:18:30.724444Z",
     "iopub.status.busy": "2024-10-10T12:18:30.723981Z",
     "iopub.status.idle": "2024-10-10T12:18:30.728152Z",
     "shell.execute_reply": "2024-10-10T12:18:30.727555Z"
    }
   },
   "outputs": [],
   "source": [
    "class RequestCounter(BaseResponse):\n",
    "    async def call(self, ctx: Context) -> MessageInitTypes:\n",
    "        return f\"answer {len(ctx.requests)}\""
   ]
  },
  {
   "cell_type": "code",
   "execution_count": 4,
   "id": "62330733",
   "metadata": {
    "execution": {
     "iopub.execute_input": "2024-10-10T12:18:30.730216Z",
     "iopub.status.busy": "2024-10-10T12:18:30.729824Z",
     "iopub.status.idle": "2024-10-10T12:18:30.733562Z",
     "shell.execute_reply": "2024-10-10T12:18:30.733011Z"
    }
   },
   "outputs": [],
   "source": [
    "toy_script = {\n",
    "    \"flow_start\": {\n",
    "        \"node_start\": {\n",
    "            RESPONSE: RequestCounter(),\n",
    "            TRANSITIONS: [Tr(dst=(\"flow_start\", \"node_start\"))],\n",
    "        }\n",
    "    }\n",
    "}\n",
    "\n",
    "# testing\n",
    "happy_path = (\n",
    "    (\"hi\", \"answer 1\"),\n",
    "    (\"how are you?\", \"answer 2\"),\n",
    "    (\"ok\", \"answer 3\"),\n",
    "    (\"good\", \"answer 4\"),\n",
    ")"
   ]
  },
  {
   "cell_type": "markdown",
   "id": "658198d8",
   "metadata": {
    "cell_marker": "\"\"\""
   },
   "source": [
    "Draft function that performs serialization."
   ]
  },
  {
   "cell_type": "code",
   "execution_count": 5,
   "id": "c7d6e47c",
   "metadata": {
    "execution": {
     "iopub.execute_input": "2024-10-10T12:18:30.735753Z",
     "iopub.status.busy": "2024-10-10T12:18:30.735340Z",
     "iopub.status.idle": "2024-10-10T12:18:30.739605Z",
     "shell.execute_reply": "2024-10-10T12:18:30.739019Z"
    }
   },
   "outputs": [],
   "source": [
    "def process_response(ctx: Context):\n",
    "    ctx_json = ctx.model_dump_json()\n",
    "    if isinstance(ctx_json, str):\n",
    "        logging.info(\"context serialized to json str\")\n",
    "    else:\n",
    "        raise Exception(f\"ctx={ctx_json} has to be serialized to json string\")\n",
    "\n",
    "    ctx_dict = ctx.model_dump()\n",
    "    if isinstance(ctx_dict, dict):\n",
    "        logging.info(\"context serialized to dict\")\n",
    "    else:\n",
    "        raise Exception(f\"ctx={ctx_dict} has to be serialized to dict\")\n",
    "\n",
    "    if not isinstance(ctx, Context):\n",
    "        raise Exception(f\"ctx={ctx} has to have Context type\")"
   ]
  },
  {
   "cell_type": "code",
   "execution_count": 6,
   "id": "d8b6985a",
   "metadata": {
    "execution": {
     "iopub.execute_input": "2024-10-10T12:18:30.741909Z",
     "iopub.status.busy": "2024-10-10T12:18:30.741519Z",
     "iopub.status.idle": "2024-10-10T12:18:30.753652Z",
     "shell.execute_reply": "2024-10-10T12:18:30.753049Z"
    }
   },
   "outputs": [
    {
     "name": "stdout",
     "output_type": "stream",
     "text": [
      "USER: text='hi'\n",
      "BOT : text='answer 1'\n",
      "USER: text='how are you?'\n",
      "BOT : text='answer 2'\n",
      "USER: text='ok'\n",
      "BOT : text='answer 3'\n",
      "USER: text='good'\n",
      "BOT : text='answer 4'\n"
     ]
    }
   ],
   "source": [
    "pipeline = Pipeline(\n",
    "    script=toy_script,\n",
    "    start_label=(\"flow_start\", \"node_start\"),\n",
    "    post_services=[process_response],\n",
    ")\n",
    "\n",
    "if __name__ == \"__main__\":\n",
    "    check_happy_path(pipeline, happy_path, printout=True)\n",
    "    if is_interactive_mode():\n",
    "        pipeline.run()"
   ]
  }
 ],
 "metadata": {
  "jupytext": {
   "cell_metadata_filter": "-all",
   "main_language": "python",
   "notebook_metadata_filter": "-all",
   "text_representation": {
    "extension": ".py",
    "format_name": "percent"
   }
  },
  "language_info": {
   "codemirror_mode": {
    "name": "ipython",
    "version": 3
   },
   "file_extension": ".py",
   "mimetype": "text/x-python",
   "name": "python",
   "nbconvert_exporter": "python",
   "pygments_lexer": "ipython3",
   "version": "3.9.20"
  }
 },
 "nbformat": 4,
 "nbformat_minor": 5
}
